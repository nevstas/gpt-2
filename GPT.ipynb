{
  "nbformat": 4,
  "nbformat_minor": 0,
  "metadata": {
    "colab": {
      "name": "GPT.ipynb",
      "provenance": [],
      "collapsed_sections": [],
      "toc_visible": true
    },
    "kernelspec": {
      "name": "python3",
      "display_name": "Python 3"
    },
    "accelerator": "GPU"
  },
  "cells": [
    {
      "cell_type": "markdown",
      "metadata": {
        "id": "AUHPlwNpXvCT"
      },
      "source": [
        "# Установка"
      ]
    },
    {
      "cell_type": "markdown",
      "metadata": {
        "id": "IhobN_gNXiSX"
      },
      "source": [
        "Для установки - запустите все команды из раздела \"Установка\""
      ]
    },
    {
      "cell_type": "code",
      "metadata": {
        "id": "0Qk8KbNmS9oJ"
      },
      "source": [
        "from google.colab import drive\r\n",
        "drive.mount('/content/drive')\r\n",
        "%cd /content/drive/My\\ Drive/\r\n",
        "!mkdir gpt-2\r\n",
        "%cd gpt-2/"
      ],
      "execution_count": null,
      "outputs": []
    },
    {
      "cell_type": "code",
      "metadata": {
        "id": "VHyB0bI_Xrtt"
      },
      "source": [
        "!git clone https://github.com/nevstas/gpt-2.git\r\n",
        "%cd /content/drive/My\\ Drive/gpt-2/gpt-2\r\n",
        "%tensorflow_version 1.x\r\n",
        "!pip3 install -r requirements.txt\r\n",
        "!python3 download_model.py 124M\r\n",
        "!python3 download_model.py 355M\r\n",
        "!python3 download_model.py 774M\r\n",
        "!python3 download_model.py 1558M"
      ],
      "execution_count": null,
      "outputs": []
    },
    {
      "cell_type": "markdown",
      "metadata": {
        "id": "aXW7NVwvX-vi"
      },
      "source": [
        "# Выполнять после старта/рестарта блокнота\r\n"
      ]
    },
    {
      "cell_type": "code",
      "metadata": {
        "id": "dAHOzIFOYDKE"
      },
      "source": [
        "from google.colab import drive\r\n",
        "drive.mount('/content/drive')\r\n",
        "%cd /content/drive/My\\ Drive/gpt-2/gpt-2\r\n",
        "%tensorflow_version 1.x\r\n",
        "!pip3 install -r requirements.txt"
      ],
      "execution_count": null,
      "outputs": []
    },
    {
      "cell_type": "markdown",
      "metadata": {
        "id": "Wh6wxliNYMwS"
      },
      "source": [
        "# Запуск генерации\r\n"
      ]
    },
    {
      "cell_type": "markdown",
      "metadata": {
        "id": "7Xq3SAqDYT1L"
      },
      "source": [
        "Без входящих ключей"
      ]
    },
    {
      "cell_type": "code",
      "metadata": {
        "id": "-bAvNAGVYLsL"
      },
      "source": [
        "!python3 src/generate_unconditional_samples.py --model_name '1558M' --nsamples 1000"
      ],
      "execution_count": null,
      "outputs": []
    },
    {
      "cell_type": "markdown",
      "metadata": {
        "id": "JFUVa41cYWjL"
      },
      "source": [
        "С входящими ключами. Заполните файл \"keywords.csv\""
      ]
    },
    {
      "cell_type": "code",
      "metadata": {
        "id": "ea0lYNqoYZoK"
      },
      "source": [
        "!python3 src/interactive_conditional_samples.py --model_name '1558M'"
      ],
      "execution_count": null,
      "outputs": []
    },
    {
      "cell_type": "markdown",
      "metadata": {
        "id": "dwk6O0LrYfMj"
      },
      "source": [
        "Экспорт в CSV\r\n",
        "\r\n",
        "Результат будет в \"drive/MyDrive/ru-gpts/ru-gpts/export.csv\"\r\n",
        "\r\n",
        "Устанавливаем в WordPress плагин \"WP All Import\" и импортируем файл export.csv"
      ]
    },
    {
      "cell_type": "code",
      "metadata": {
        "id": "wGNwdmMWYhVK"
      },
      "source": [
        "!python3 ru-gpts/export_to_csv.py"
      ],
      "execution_count": null,
      "outputs": []
    }
  ]
}